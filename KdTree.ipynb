{
 "cells": [
  {
   "cell_type": "code",
   "execution_count": 26,
   "metadata": {},
   "outputs": [],
   "source": [
    "#Beyza Coşkun 170303001 - Ayse Kartal170303003  Proje1 \n",
    "from binarytree import tree, Node\n",
    "from math import floor\n",
    "import pandas as pd"
   ]
  },
  {
   "cell_type": "code",
   "execution_count": 27,
   "metadata": {},
   "outputs": [],
   "source": [
    "class KD_Tree:\n",
    "    def __init__(self,data):\n",
    "        self.data = data\n",
    "        self.tree = None\n",
    "        \n",
    "    def _build(self, points, depth):\n",
    "        k = len(points.columns)\n",
    "        _axis = depth % k\n",
    "        _column = points.columns[_axis]\n",
    "        \n",
    "        if len(points) == 0:\n",
    "            return None\n",
    "        \n",
    "        objects_list = points.sort_values(by = [_column], ascending = True)\n",
    "        \n",
    "        if len(objects_list) % 2 == 0:\n",
    "            median_idx = int((len(objects_list)/2))\n",
    "        else:\n",
    "            median_idx = floor((len(objects_list)/2))\n",
    "        \n",
    "        node = Node(round(objects_list.iloc[median_idx][_column],3))\n",
    "        node.left = self._build(objects_list.iloc[0:median_idx], depth+1)\n",
    "        node.right = self._build(objects_list.iloc[median_idx+1:], depth+1)\n",
    "        \n",
    "        return node\n",
    "    \n",
    "    def build(self):\n",
    "        self.tree = self._build(self.data, depth = 0)"
   ]
  },
  {
   "cell_type": "code",
   "execution_count": 28,
   "metadata": {},
   "outputs": [],
   "source": [
    "arr = []\n",
    "temp = []\n",
    "\n",
    "with open(\"C:/Users/beyza/Desktop/Üniversite 4.Sınıf/Algoritma Tasarımı/kdTree_data.txt\", \"r\") as filestream:\n",
    "    for line in filestream:\n",
    "        currentline = line.split(\",\")\n",
    "        for i in currentline:\n",
    "            temp.append(int(i.rstrip()))\n",
    "        arr.append(temp)\n",
    "        temp = []\n",
    "test_df = pd.DataFrame(data = arr, columns=[\"X\", \"Y\", \"Z\",\"T\"])\n",
    "\n",
    "\n",
    "KD = KD_Tree(test_df)\n",
    "KD.build()"
   ]
  },
  {
   "cell_type": "code",
   "execution_count": 29,
   "metadata": {},
   "outputs": [
    {
     "name": "stdout",
     "output_type": "stream",
     "text": [
      "\n",
      "      __6__\n",
      "     /     \\\n",
      "    4       2\n",
      "   / \\     / \\\n",
      "  8   0   3   8\n",
      " /\n",
      "9\n",
      "\n"
     ]
    }
   ],
   "source": [
    "print(KD.tree)"
   ]
  },
  {
   "cell_type": "code",
   "execution_count": null,
   "metadata": {},
   "outputs": [],
   "source": []
  },
  {
   "cell_type": "code",
   "execution_count": null,
   "metadata": {},
   "outputs": [],
   "source": []
  }
 ],
 "metadata": {
  "kernelspec": {
   "display_name": "Python 3",
   "language": "python",
   "name": "python3"
  },
  "language_info": {
   "codemirror_mode": {
    "name": "ipython",
    "version": 3
   },
   "file_extension": ".py",
   "mimetype": "text/x-python",
   "name": "python",
   "nbconvert_exporter": "python",
   "pygments_lexer": "ipython3",
   "version": "3.8.3"
  }
 },
 "nbformat": 4,
 "nbformat_minor": 4
}
